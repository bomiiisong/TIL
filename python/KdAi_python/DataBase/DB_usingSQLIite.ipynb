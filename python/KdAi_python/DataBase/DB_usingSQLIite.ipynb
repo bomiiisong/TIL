{
 "cells": [
  {
   "cell_type": "code",
   "execution_count": 7,
   "metadata": {},
   "outputs": [],
   "source": [
    "import sqlite3"
   ]
  },
  {
   "cell_type": "code",
   "execution_count": 8,
   "metadata": {},
   "outputs": [],
   "source": [
    "con = sqlite3.connect('addr.db') #SQLite : connect(\"연결할 DB 이름\") / Oracle, MySQL : connect(\"호스트명(IP), port\" 등)\n",
    "cursor = con.cursor() #connect 객체의 cursor 생성\n",
    "\n",
    "cursor.execute(\"DROP TABLE IF EXISTS tblAddr\")\n",
    "cursor.execute(\"\"\"CREATE TABLE tblAddr (name CHAR(16) PRIMARY KEY, phone CHAR(16), address TEXT)\"\"\")\n",
    "\n",
    "cursor.execute(\"INSERT INTO tblAddr VALUES ('김상형', '123-4567', '오산')\")\n",
    "cursor.execute(\"INSERT INTO tblAddr VALUES ('한경은', '555-1004', '수원')\")\n",
    "cursor.execute(\"INSERT INTO tblAddr VALUES ('한주완', '444-1092', '대전')\")\n",
    "\n",
    "con.commit()\n",
    "\n",
    "cursor.close()\n",
    "con.close()"
   ]
  },
  {
   "cell_type": "code",
   "execution_count": null,
   "metadata": {},
   "outputs": [],
   "source": [
    "## fetchall() : 모든 레코드 한꺼번에 read\n",
    "\n",
    "con = sqlite3.connect('addr.db')\n",
    "cursor = con.cursor()\n",
    "\n",
    "cursor.execute(\"SELECT * FROM tblAddr\")\n",
    "table = cursor.fetchall()\n",
    "for record in table:\n",
    "    print(\"이름 : %s, 전화 : %s, 주소 : %s\" % record)\n",
    "    \n",
    "cursor.close()\n",
    "con.close()"
   ]
  },
  {
   "cell_type": "code",
   "execution_count": null,
   "metadata": {},
   "outputs": [],
   "source": [
    "## fetchone() : 한 레코드씩 차례로 read\n",
    "\n",
    "con = sqlite3.connect('addr.db')\n",
    "cursor = con.cursor()\n",
    "\n",
    "cursor.execute(\"SELECT * FROM tblAddr\")\n",
    "while True:\n",
    "    record = cursor.fetchone()\n",
    "    if record == None:\n",
    "        break\n",
    "    print(\"이름 : %s, 전화 : %s, 주소 : %s\" % record)\n",
    "    \n",
    "cursor.close()\n",
    "con.close()"
   ]
  },
  {
   "cell_type": "code",
   "execution_count": null,
   "metadata": {},
   "outputs": [],
   "source": [
    "## fetchone 활용(2) & WHERE\n",
    "\n",
    "con = sqlite3.connect('addr.db')\n",
    "cursor = con.cursor()\n",
    "\n",
    "cursor.execute(\"SELECT addr FROM tblAddr WHERE name = '김상형'\")\n",
    "record = cursor.fetchone()\n",
    "print(\"김상형은 %s에 살고 있습니다.\" % record)\n",
    "\n",
    "cursor.close()\n",
    "con.close()"
   ]
  },
  {
   "cell_type": "code",
   "execution_count": null,
   "metadata": {},
   "outputs": [],
   "source": [
    "## Order by [테이블 이름]\n",
    "\n",
    "con = sqlite3.connect('addr.db')\n",
    "cursor = con.cursor()\n",
    "\n",
    "cursor.execute(\"SELECT * FROM tblAddr ORDER BY addr\")\n",
    "table = cursor.fetchall()\n",
    "for record in table:\n",
    "    print(\"이름 : %s, 전화 : %s, 주소 : %s\" % record)\n",
    "\n",
    "cursor.close()\n",
    "con.close()   "
   ]
  },
  {
   "cell_type": "code",
   "execution_count": null,
   "metadata": {},
   "outputs": [],
   "source": [
    "## Update\n",
    "\n",
    "con = sqlite3.connect('addr.db')\n",
    "cursor = con.cursor()\n",
    "\n",
    "cursor.execute(\"UPDATE tblAddr SET addr = '제주도' WHERE name = '김상형'\")\n",
    "con.commit()\n",
    "\n",
    "cursor.close()\n",
    "con.close()  "
   ]
  },
  {
   "cell_type": "code",
   "execution_count": null,
   "metadata": {},
   "outputs": [],
   "source": [
    "## Delete\n",
    "\n",
    "con = sqlite3.connect('addr.db')\n",
    "cursor = con.cursor()\n",
    "\n",
    "cursor.execute(\"DELETE FROM tblAddr WHERE name = '김상형'\")\n",
    "con.commit()\n",
    "\n",
    "cursor.close()\n",
    "con.close()  "
   ]
  }
 ],
 "metadata": {
  "kernelspec": {
   "display_name": "Python 3",
   "language": "python",
   "name": "python3"
  },
  "language_info": {
   "codemirror_mode": {
    "name": "ipython",
    "version": 3
   },
   "file_extension": ".py",
   "mimetype": "text/x-python",
   "name": "python",
   "nbconvert_exporter": "python",
   "pygments_lexer": "ipython3",
   "version": "3.7.4"
  }
 },
 "nbformat": 4,
 "nbformat_minor": 2
}
