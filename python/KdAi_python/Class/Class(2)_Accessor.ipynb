{
 "cells": [
  {
   "cell_type": "markdown",
   "metadata": {},
   "source": [
    "# Accessor"
   ]
  },
  {
   "cell_type": "code",
   "execution_count": null,
   "metadata": {},
   "outputs": [],
   "source": [
    "## getter/setter Method\n",
    "\n",
    "class Date:\n",
    "    def __init__(self, month):\n",
    "        self.month = month\n",
    "    def getmonth(self):\n",
    "        return self.month\n",
    "    def setmonth(self, month):\n",
    "        if 1 <= month <= 12:\n",
    "            self.month = month"
   ]
  },
  {
   "cell_type": "code",
   "execution_count": null,
   "metadata": {},
   "outputs": [],
   "source": [
    "today = Date(8)\n",
    "print(today.getmonth()) # return 8\n",
    "\n",
    "today.setmonth(15) # return 8\n",
    "print(today.getmonth())"
   ]
  },
  {
   "cell_type": "code",
   "execution_count": null,
   "metadata": {},
   "outputs": [],
   "source": [
    "## Property (1)\n",
    "\n",
    "class Date:\n",
    "    def __init__(self, month):\n",
    "        self.inner_month = month\n",
    "    def getmonth(self):\n",
    "        return self.inner_month\n",
    "    def setmonth(self, month):\n",
    "        if 1 <= month <= 12:\n",
    "            self.inner_month = month\n",
    "    month = property(getmonth, setmonth)"
   ]
  },
  {
   "cell_type": "code",
   "execution_count": null,
   "metadata": {},
   "outputs": [],
   "source": [
    "## Property (2)\n",
    "\n",
    "class Date:\n",
    "    def __init__(self, month):\n",
    "        self.inner_month = month\n",
    "        \n",
    "    @property #decorator -> getter\n",
    "    def month(self):\n",
    "        return self.inner_month\n",
    "    \n",
    "    @month.setter #setter\n",
    "    def month(self, month):\n",
    "        if 1 <= month <= 12:\n",
    "            self.inner_month = month"
   ]
  },
  {
   "cell_type": "code",
   "execution_count": null,
   "metadata": {},
   "outputs": [],
   "source": [
    "## hidden\n",
    "\n",
    "class Date:\n",
    "    def __init__(self, month):\n",
    "        self.__month = month\n",
    "        \n",
    "    def getmonth(self):\n",
    "        return self.__month\n",
    "    \n",
    "    def setmonth(self, month):\n",
    "        if 1 <= month <= 12:\n",
    "            self.__month = month\n",
    "            \n",
    "    month = property(getmonth, setmonth)"
   ]
  }
 ],
 "metadata": {
  "kernelspec": {
   "display_name": "Python 3",
   "language": "python",
   "name": "python3"
  },
  "language_info": {
   "codemirror_mode": {
    "name": "ipython",
    "version": 3
   },
   "file_extension": ".py",
   "mimetype": "text/x-python",
   "name": "python",
   "nbconvert_exporter": "python",
   "pygments_lexer": "ipython3",
   "version": "3.7.4"
  }
 },
 "nbformat": 4,
 "nbformat_minor": 2
}
