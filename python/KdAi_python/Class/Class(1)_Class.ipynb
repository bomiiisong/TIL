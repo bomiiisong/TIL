{
 "cells": [
  {
   "cell_type": "markdown",
   "metadata": {},
   "source": [
    "# Class 개념"
   ]
  },
  {
   "cell_type": "code",
   "execution_count": null,
   "metadata": {},
   "outputs": [],
   "source": [
    "## capsule 1\n",
    "\n",
    "balance = 8000 # 예금 잔액 \n",
    "\n",
    "def deposit(money): # 입출금 동작 수행\n",
    "    global balance\n",
    "    balance += money\n",
    "\n",
    "def inquire(): # 잔액 조회 & 출력\n",
    "    print(\"잔액은 %d원 입니다.\" % balance)   "
   ]
  },
  {
   "cell_type": "code",
   "execution_count": null,
   "metadata": {},
   "outputs": [],
   "source": [
    "## capsule 2\n",
    "\n",
    "class Account:\n",
    "    def __init__(self, balance):\n",
    "        self.balance = balance\n",
    "    def deposit(self, money):\n",
    "        self.balance += money\n",
    "    def inquire(self):\n",
    "        print(\"잔액은 %d원 입니다.\" % self.balance)\n",
    "\n",
    "# 객체 1\n",
    "sinhan = Account(8000)\n",
    "sinhan.deposit(1000)\n",
    "sinhan.inquire()\n",
    "\n",
    "# 객체 2\n",
    "kb = Account(120000)\n",
    "kb.inquire()"
   ]
  },
  {
   "cell_type": "markdown",
   "metadata": {},
   "source": [
    "# 상속"
   ]
  },
  {
   "cell_type": "code",
   "execution_count": null,
   "metadata": {},
   "outputs": [],
   "source": [
    "class Human:\n",
    "    def __init__(self, age, name):\n",
    "        self.age = age\n",
    "        self.name = name\n",
    "        \n",
    "    def intro(self):\n",
    "        print(str(self.age) + \"살 \" + self.name + \"입니다.\")"
   ]
  },
  {
   "cell_type": "code",
   "execution_count": null,
   "metadata": {},
   "outputs": [],
   "source": [
    "## Inheritance & Overriding\n",
    "\n",
    "class Student(Human):\n",
    "    def __init__(self, age, name, stunum):\n",
    "        super().__init__(age, name) #부모 Class(Human)에서 정의한 age, name 사용\n",
    "        self.stunum = stunum\n",
    "        \n",
    "    def intro(self):\n",
    "        super().intro() #부모 Class(=Human)의 intro 함수 기능을 포함\n",
    "        print(\"학번 : \" + str(self.stunum)) #추가 기능 => 재정의, 오버라이딩(override)\n",
    "        \n",
    "    def study(self):\n",
    "        print(\"하늘천 땅지 검을현 누를황\")"
   ]
  },
  {
   "cell_type": "code",
   "execution_count": null,
   "metadata": {},
   "outputs": [],
   "source": [
    "bom = Human(20, '보미')\n",
    "bom.intro()"
   ]
  },
  {
   "cell_type": "code",
   "execution_count": null,
   "metadata": {},
   "outputs": [],
   "source": [
    "bomi = Student(20, '보미', 1234567)\n",
    "bomi.intro()"
   ]
  }
 ],
 "metadata": {
  "kernelspec": {
   "display_name": "Python 3",
   "language": "python",
   "name": "python3"
  },
  "language_info": {
   "codemirror_mode": {
    "name": "ipython",
    "version": 3
   },
   "file_extension": ".py",
   "mimetype": "text/x-python",
   "name": "python",
   "nbconvert_exporter": "python",
   "pygments_lexer": "ipython3",
   "version": "3.7.4"
  }
 },
 "nbformat": 4,
 "nbformat_minor": 2
}
