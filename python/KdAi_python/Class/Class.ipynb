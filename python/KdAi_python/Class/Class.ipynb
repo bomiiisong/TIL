{
 "cells": [
  {
   "cell_type": "code",
   "execution_count": null,
   "metadata": {},
   "outputs": [],
   "source": [
    "class Human:\n",
    "    def __init__(self, age, name):\n",
    "        self.age = age\n",
    "        self.name = name\n",
    "        \n",
    "    def intro(self):\n",
    "        print(str(self.age) + \"살 \" + self.name + \"입니다.\")"
   ]
  },
  {
   "cell_type": "code",
   "execution_count": null,
   "metadata": {},
   "outputs": [],
   "source": [
    "class Student(Human):\n",
    "    def __init__(self, age, name, stunum):\n",
    "        super().__init__(age, name) #부모 Class(=Human)에서 정의한 age, name 사용\n",
    "        self.stunum = stunum\n",
    "        \n",
    "    def intro(self):\n",
    "        super().intro() #부모 Class(=Human)의 intro 함수 기능을 포함\n",
    "        print(\"학번 : \" + str(self.stunum))\n",
    "        \n",
    "    def study(self):\n",
    "        print(\"하늘천 땅지 검을현 누를황\")"
   ]
  },
  {
   "cell_type": "code",
   "execution_count": null,
   "metadata": {},
   "outputs": [],
   "source": [
    "bom = Human(29, '보미쓰')"
   ]
  },
  {
   "cell_type": "code",
   "execution_count": null,
   "metadata": {},
   "outputs": [],
   "source": [
    "bom.intro()"
   ]
  },
  {
   "cell_type": "code",
   "execution_count": null,
   "metadata": {},
   "outputs": [],
   "source": [
    "bomi = Student(29, '보미', 930827)"
   ]
  },
  {
   "cell_type": "code",
   "execution_count": null,
   "metadata": {},
   "outputs": [],
   "source": [
    "bomi.intro()"
   ]
  },
  {
   "cell_type": "code",
   "execution_count": null,
   "metadata": {},
   "outputs": [],
   "source": [
    "class Student2(Human):\n",
    "    def __init__(self, age, name, stunum):\n",
    "        super().__init__(age, name)\n",
    "        self.stunum = stunum\n",
    "        \n",
    "    def intro(self):\n",
    "        #super().intro() #부모 Class(=Human)의 intro 함수 기능을 포함\n",
    "        print(\"학번 : \" + str(self.stunum))\n",
    "        \n",
    "    def study(self):\n",
    "        print(\"하늘천 땅지 검을현 누를황\")"
   ]
  },
  {
   "cell_type": "code",
   "execution_count": null,
   "metadata": {},
   "outputs": [],
   "source": [
    "test = Student2(29, 'bomi', 930827)\n",
    "test.intro()"
   ]
  },
  {
   "cell_type": "code",
   "execution_count": null,
   "metadata": {},
   "outputs": [],
   "source": [
    "test.study()"
   ]
  },
  {
   "cell_type": "code",
   "execution_count": null,
   "metadata": {},
   "outputs": [],
   "source": [
    "kim = Human(30,'은지')"
   ]
  },
  {
   "cell_type": "code",
   "execution_count": null,
   "metadata": {},
   "outputs": [],
   "source": [
    "kim.intro()"
   ]
  },
  {
   "cell_type": "code",
   "execution_count": null,
   "metadata": {},
   "outputs": [],
   "source": [
    "kim.name = \"춘수\"\n",
    "kim.intro()"
   ]
  },
  {
   "cell_type": "code",
   "execution_count": null,
   "metadata": {},
   "outputs": [],
   "source": [
    "kim.age = 60\n",
    "kim.intro()"
   ]
  },
  {
   "cell_type": "code",
   "execution_count": null,
   "metadata": {},
   "outputs": [],
   "source": [
    "class Date:\n",
    "    def __init__(self, month):\n",
    "        self.month = month\n",
    "    def getmonth(self):\n",
    "        return self.month\n",
    "    def setmonth(self, month):\n",
    "        if 1 <= month <= 12:\n",
    "            self.month = month"
   ]
  },
  {
   "cell_type": "code",
   "execution_count": null,
   "metadata": {},
   "outputs": [],
   "source": [
    "today = Date(8)\n",
    "today.setmonth(12)\n",
    "print(today.setmonth(12))"
   ]
  },
  {
   "cell_type": "code",
   "execution_count": null,
   "metadata": {},
   "outputs": [],
   "source": [
    "@classmethod  #전역함수라고 이해하자"
   ]
  },
  {
   "cell_type": "code",
   "execution_count": 1,
   "metadata": {},
   "outputs": [],
   "source": [
    "class Human:\n",
    "    def __init__(self, age, name):\n",
    "        self.age = age\n",
    "        self.name = name\n",
    "        \n",
    "    def __eq__(self, other):\n",
    "        return self.age == other.age and self.name == other.name #age와 name 모두 동일"
   ]
  },
  {
   "cell_type": "code",
   "execution_count": 3,
   "metadata": {},
   "outputs": [
    {
     "name": "stdout",
     "output_type": "stream",
     "text": [
      "False\n",
      "True\n"
     ]
    }
   ],
   "source": [
    "song = Human(29, 'bomi')\n",
    "eun = Human(32, 'ej')\n",
    "joo = Human(32, 'ej')\n",
    "\n",
    "print(song == eun)\n",
    "print(eun == joo)"
   ]
  },
  {
   "cell_type": "code",
   "execution_count": null,
   "metadata": {},
   "outputs": [],
   "source": []
  }
 ],
 "metadata": {
  "kernelspec": {
   "display_name": "Python 3",
   "language": "python",
   "name": "python3"
  },
  "language_info": {
   "codemirror_mode": {
    "name": "ipython",
    "version": 3
   },
   "file_extension": ".py",
   "mimetype": "text/x-python",
   "name": "python",
   "nbconvert_exporter": "python",
   "pygments_lexer": "ipython3",
   "version": "3.7.4"
  }
 },
 "nbformat": 4,
 "nbformat_minor": 2
}
